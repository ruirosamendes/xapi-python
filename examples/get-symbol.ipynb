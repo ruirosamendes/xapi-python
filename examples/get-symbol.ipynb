{
 "cells": [
  {
   "cell_type": "code",
   "execution_count": 1,
   "metadata": {},
   "outputs": [],
   "source": [
    "import json\n",
    "with open(\"../credentials.json\", \"r\") as f:\n",
    "    CREDENTIALS = json.load(f)"
   ]
  },
  {
   "cell_type": "code",
   "execution_count": 2,
   "metadata": {},
   "outputs": [
    {
     "data": {
      "text/plain": [
       "{'status': True,\n",
       " 'returnData': {'symbol': 'BITCOIN',\n",
       "  'currency': 'BTC',\n",
       "  'categoryName': 'CRT',\n",
       "  'currencyProfit': 'USD',\n",
       "  'quoteId': 5,\n",
       "  'quoteIdCross': 4,\n",
       "  'marginMode': 101,\n",
       "  'profitMode': 5,\n",
       "  'pipsPrecision': 0,\n",
       "  'contractSize': 1,\n",
       "  'exemode': 1,\n",
       "  'time': 1687093426862,\n",
       "  'expiration': None,\n",
       "  'stopsLevel': 0,\n",
       "  'precision': 2,\n",
       "  'swapType': 3,\n",
       "  'stepRuleId': 3,\n",
       "  'type': 2673,\n",
       "  'instantMaxVolume': 2147483647,\n",
       "  'groupName': 'Crypto',\n",
       "  'description': 'Bitcoin',\n",
       "  'longOnly': False,\n",
       "  'trailingEnabled': True,\n",
       "  'marginHedgedStrong': False,\n",
       "  'swapEnable': True,\n",
       "  'percentage': 100.0,\n",
       "  'bid': 26491.45,\n",
       "  'ask': 26557.55,\n",
       "  'high': 26629.45,\n",
       "  'low': 26347.45,\n",
       "  'lotMin': 0.01,\n",
       "  'lotMax': 50.0,\n",
       "  'lotStep': 0.01,\n",
       "  'tickSize': 0.01,\n",
       "  'tickValue': 0.01,\n",
       "  'swapLong': -0.097222,\n",
       "  'swapShort': -0.027778,\n",
       "  'leverage': 50.0,\n",
       "  'spreadRaw': 66.1,\n",
       "  'spreadTable': 66.1,\n",
       "  'starting': None,\n",
       "  'swap_rollover3days': 0,\n",
       "  'marginMaintenance': 0,\n",
       "  'marginHedged': 0,\n",
       "  'initialMargin': 0,\n",
       "  'timeString': 'Sun Jun 18 15:03:46 CEST 2023',\n",
       "  'shortSelling': True,\n",
       "  'currencyPair': True}}"
      ]
     },
     "execution_count": 2,
     "metadata": {},
     "output_type": "execute_result"
    }
   ],
   "source": [
    "import xapi\n",
    "x = await xapi.connect(**CREDENTIALS)\n",
    "await x.socket.getSymbol(\"BITCOIN\")"
   ]
  },
  {
   "cell_type": "code",
   "execution_count": null,
   "metadata": {},
   "outputs": [],
   "source": []
  }
 ],
 "metadata": {
  "kernelspec": {
   "display_name": ".venv",
   "language": "python",
   "name": "python3"
  },
  "language_info": {
   "codemirror_mode": {
    "name": "ipython",
    "version": 3
   },
   "file_extension": ".py",
   "mimetype": "text/x-python",
   "name": "python",
   "nbconvert_exporter": "python",
   "pygments_lexer": "ipython3",
   "version": "3.12.1"
  },
  "orig_nbformat": 4
 },
 "nbformat": 4,
 "nbformat_minor": 2
}
